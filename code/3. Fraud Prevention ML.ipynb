{
 "cells": [
  {
   "cell_type": "code",
   "execution_count": 48,
   "metadata": {},
   "outputs": [],
   "source": [
    "import numpy as np\n",
    "import pandas as pd\n",
    "import matplotlib.pyplot as plt\n",
    "from sklearn.model_selection import train_test_split\n",
    "from xgboost import XGBClassifier, cv, plot_importance\n",
    "from sklearn.model_selection import RandomizedSearchCV, GridSearchCV\n",
    "from sklearn.metrics import accuracy_score, mean_squared_error\n",
    "from sklearn.metrics import classification_report"
   ]
  },
  {
   "cell_type": "code",
   "execution_count": 49,
   "metadata": {},
   "outputs": [
    {
     "data": {
      "text/html": [
       "<div>\n",
       "<style scoped>\n",
       "    .dataframe tbody tr th:only-of-type {\n",
       "        vertical-align: middle;\n",
       "    }\n",
       "\n",
       "    .dataframe tbody tr th {\n",
       "        vertical-align: top;\n",
       "    }\n",
       "\n",
       "    .dataframe thead th {\n",
       "        text-align: right;\n",
       "    }\n",
       "</style>\n",
       "<table border=\"1\" class=\"dataframe\">\n",
       "  <thead>\n",
       "    <tr style=\"text-align: right;\">\n",
       "      <th></th>\n",
       "      <th>Unnamed: 0</th>\n",
       "      <th>TransactionID</th>\n",
       "      <th>isFraud</th>\n",
       "      <th>TransactionDT</th>\n",
       "      <th>TransactionAmt</th>\n",
       "      <th>ProductCD</th>\n",
       "      <th>card1</th>\n",
       "      <th>card2</th>\n",
       "      <th>card3</th>\n",
       "      <th>card4</th>\n",
       "      <th>...</th>\n",
       "      <th>id_31</th>\n",
       "      <th>id_32</th>\n",
       "      <th>id_33</th>\n",
       "      <th>id_34</th>\n",
       "      <th>id_35</th>\n",
       "      <th>id_36</th>\n",
       "      <th>id_37</th>\n",
       "      <th>id_38</th>\n",
       "      <th>DeviceType</th>\n",
       "      <th>DeviceInfo</th>\n",
       "    </tr>\n",
       "  </thead>\n",
       "  <tbody>\n",
       "    <tr>\n",
       "      <td>0</td>\n",
       "      <td>0</td>\n",
       "      <td>2987000</td>\n",
       "      <td>0</td>\n",
       "      <td>86400</td>\n",
       "      <td>68.5</td>\n",
       "      <td>4</td>\n",
       "      <td>13926</td>\n",
       "      <td>-999.0</td>\n",
       "      <td>150.0</td>\n",
       "      <td>1</td>\n",
       "      <td>...</td>\n",
       "      <td>136</td>\n",
       "      <td>-999.0</td>\n",
       "      <td>461</td>\n",
       "      <td>4</td>\n",
       "      <td>2</td>\n",
       "      <td>2</td>\n",
       "      <td>2</td>\n",
       "      <td>2</td>\n",
       "      <td>2</td>\n",
       "      <td>2740</td>\n",
       "    </tr>\n",
       "    <tr>\n",
       "      <td>1</td>\n",
       "      <td>1</td>\n",
       "      <td>2987001</td>\n",
       "      <td>0</td>\n",
       "      <td>86401</td>\n",
       "      <td>29.0</td>\n",
       "      <td>4</td>\n",
       "      <td>2755</td>\n",
       "      <td>404.0</td>\n",
       "      <td>150.0</td>\n",
       "      <td>2</td>\n",
       "      <td>...</td>\n",
       "      <td>136</td>\n",
       "      <td>-999.0</td>\n",
       "      <td>461</td>\n",
       "      <td>4</td>\n",
       "      <td>2</td>\n",
       "      <td>2</td>\n",
       "      <td>2</td>\n",
       "      <td>2</td>\n",
       "      <td>2</td>\n",
       "      <td>2740</td>\n",
       "    </tr>\n",
       "    <tr>\n",
       "      <td>2</td>\n",
       "      <td>2</td>\n",
       "      <td>2987002</td>\n",
       "      <td>0</td>\n",
       "      <td>86469</td>\n",
       "      <td>59.0</td>\n",
       "      <td>4</td>\n",
       "      <td>4663</td>\n",
       "      <td>490.0</td>\n",
       "      <td>150.0</td>\n",
       "      <td>4</td>\n",
       "      <td>...</td>\n",
       "      <td>136</td>\n",
       "      <td>-999.0</td>\n",
       "      <td>461</td>\n",
       "      <td>4</td>\n",
       "      <td>2</td>\n",
       "      <td>2</td>\n",
       "      <td>2</td>\n",
       "      <td>2</td>\n",
       "      <td>2</td>\n",
       "      <td>2740</td>\n",
       "    </tr>\n",
       "    <tr>\n",
       "      <td>3</td>\n",
       "      <td>3</td>\n",
       "      <td>2987003</td>\n",
       "      <td>0</td>\n",
       "      <td>86499</td>\n",
       "      <td>50.0</td>\n",
       "      <td>4</td>\n",
       "      <td>18132</td>\n",
       "      <td>567.0</td>\n",
       "      <td>150.0</td>\n",
       "      <td>2</td>\n",
       "      <td>...</td>\n",
       "      <td>136</td>\n",
       "      <td>-999.0</td>\n",
       "      <td>461</td>\n",
       "      <td>4</td>\n",
       "      <td>2</td>\n",
       "      <td>2</td>\n",
       "      <td>2</td>\n",
       "      <td>2</td>\n",
       "      <td>2</td>\n",
       "      <td>2740</td>\n",
       "    </tr>\n",
       "    <tr>\n",
       "      <td>4</td>\n",
       "      <td>4</td>\n",
       "      <td>2987004</td>\n",
       "      <td>0</td>\n",
       "      <td>86506</td>\n",
       "      <td>50.0</td>\n",
       "      <td>1</td>\n",
       "      <td>4497</td>\n",
       "      <td>514.0</td>\n",
       "      <td>150.0</td>\n",
       "      <td>2</td>\n",
       "      <td>...</td>\n",
       "      <td>162</td>\n",
       "      <td>32.0</td>\n",
       "      <td>268</td>\n",
       "      <td>3</td>\n",
       "      <td>1</td>\n",
       "      <td>0</td>\n",
       "      <td>1</td>\n",
       "      <td>1</td>\n",
       "      <td>1</td>\n",
       "      <td>1565</td>\n",
       "    </tr>\n",
       "  </tbody>\n",
       "</table>\n",
       "<p>5 rows × 353 columns</p>\n",
       "</div>"
      ],
      "text/plain": [
       "   Unnamed: 0  TransactionID  isFraud  TransactionDT  TransactionAmt  \\\n",
       "0           0        2987000        0          86400            68.5   \n",
       "1           1        2987001        0          86401            29.0   \n",
       "2           2        2987002        0          86469            59.0   \n",
       "3           3        2987003        0          86499            50.0   \n",
       "4           4        2987004        0          86506            50.0   \n",
       "\n",
       "   ProductCD  card1  card2  card3  card4  ...  id_31  id_32  id_33  id_34  \\\n",
       "0          4  13926 -999.0  150.0      1  ...    136 -999.0    461      4   \n",
       "1          4   2755  404.0  150.0      2  ...    136 -999.0    461      4   \n",
       "2          4   4663  490.0  150.0      4  ...    136 -999.0    461      4   \n",
       "3          4  18132  567.0  150.0      2  ...    136 -999.0    461      4   \n",
       "4          1   4497  514.0  150.0      2  ...    162   32.0    268      3   \n",
       "\n",
       "   id_35  id_36  id_37  id_38  DeviceType  DeviceInfo  \n",
       "0      2      2      2      2           2        2740  \n",
       "1      2      2      2      2           2        2740  \n",
       "2      2      2      2      2           2        2740  \n",
       "3      2      2      2      2           2        2740  \n",
       "4      1      0      1      1           1        1565  \n",
       "\n",
       "[5 rows x 353 columns]"
      ]
     },
     "execution_count": 49,
     "metadata": {},
     "output_type": "execute_result"
    }
   ],
   "source": [
    "train = pd.read_csv('/Users/wanranli/Downloads/!Capstone Project 2/datasets/train_ML.csv')\n",
    "train.head()"
   ]
  },
  {
   "cell_type": "code",
   "execution_count": 50,
   "metadata": {
    "scrolled": true
   },
   "outputs": [
    {
     "data": {
      "text/html": [
       "<div>\n",
       "<style scoped>\n",
       "    .dataframe tbody tr th:only-of-type {\n",
       "        vertical-align: middle;\n",
       "    }\n",
       "\n",
       "    .dataframe tbody tr th {\n",
       "        vertical-align: top;\n",
       "    }\n",
       "\n",
       "    .dataframe thead th {\n",
       "        text-align: right;\n",
       "    }\n",
       "</style>\n",
       "<table border=\"1\" class=\"dataframe\">\n",
       "  <thead>\n",
       "    <tr style=\"text-align: right;\">\n",
       "      <th></th>\n",
       "      <th>TransactionID</th>\n",
       "      <th>isFraud</th>\n",
       "      <th>TransactionDT</th>\n",
       "      <th>TransactionAmt</th>\n",
       "      <th>ProductCD</th>\n",
       "      <th>card1</th>\n",
       "      <th>card2</th>\n",
       "      <th>card3</th>\n",
       "      <th>card4</th>\n",
       "      <th>card5</th>\n",
       "      <th>...</th>\n",
       "      <th>id_31</th>\n",
       "      <th>id_32</th>\n",
       "      <th>id_33</th>\n",
       "      <th>id_34</th>\n",
       "      <th>id_35</th>\n",
       "      <th>id_36</th>\n",
       "      <th>id_37</th>\n",
       "      <th>id_38</th>\n",
       "      <th>DeviceType</th>\n",
       "      <th>DeviceInfo</th>\n",
       "    </tr>\n",
       "  </thead>\n",
       "  <tbody>\n",
       "    <tr>\n",
       "      <td>0</td>\n",
       "      <td>2987000</td>\n",
       "      <td>0</td>\n",
       "      <td>86400</td>\n",
       "      <td>68.5</td>\n",
       "      <td>4</td>\n",
       "      <td>13926</td>\n",
       "      <td>-999.0</td>\n",
       "      <td>150.0</td>\n",
       "      <td>1</td>\n",
       "      <td>142.0</td>\n",
       "      <td>...</td>\n",
       "      <td>136</td>\n",
       "      <td>-999.0</td>\n",
       "      <td>461</td>\n",
       "      <td>4</td>\n",
       "      <td>2</td>\n",
       "      <td>2</td>\n",
       "      <td>2</td>\n",
       "      <td>2</td>\n",
       "      <td>2</td>\n",
       "      <td>2740</td>\n",
       "    </tr>\n",
       "    <tr>\n",
       "      <td>1</td>\n",
       "      <td>2987001</td>\n",
       "      <td>0</td>\n",
       "      <td>86401</td>\n",
       "      <td>29.0</td>\n",
       "      <td>4</td>\n",
       "      <td>2755</td>\n",
       "      <td>404.0</td>\n",
       "      <td>150.0</td>\n",
       "      <td>2</td>\n",
       "      <td>102.0</td>\n",
       "      <td>...</td>\n",
       "      <td>136</td>\n",
       "      <td>-999.0</td>\n",
       "      <td>461</td>\n",
       "      <td>4</td>\n",
       "      <td>2</td>\n",
       "      <td>2</td>\n",
       "      <td>2</td>\n",
       "      <td>2</td>\n",
       "      <td>2</td>\n",
       "      <td>2740</td>\n",
       "    </tr>\n",
       "    <tr>\n",
       "      <td>2</td>\n",
       "      <td>2987002</td>\n",
       "      <td>0</td>\n",
       "      <td>86469</td>\n",
       "      <td>59.0</td>\n",
       "      <td>4</td>\n",
       "      <td>4663</td>\n",
       "      <td>490.0</td>\n",
       "      <td>150.0</td>\n",
       "      <td>4</td>\n",
       "      <td>166.0</td>\n",
       "      <td>...</td>\n",
       "      <td>136</td>\n",
       "      <td>-999.0</td>\n",
       "      <td>461</td>\n",
       "      <td>4</td>\n",
       "      <td>2</td>\n",
       "      <td>2</td>\n",
       "      <td>2</td>\n",
       "      <td>2</td>\n",
       "      <td>2</td>\n",
       "      <td>2740</td>\n",
       "    </tr>\n",
       "  </tbody>\n",
       "</table>\n",
       "<p>3 rows × 352 columns</p>\n",
       "</div>"
      ],
      "text/plain": [
       "   TransactionID  isFraud  TransactionDT  TransactionAmt  ProductCD  card1  \\\n",
       "0        2987000        0          86400            68.5          4  13926   \n",
       "1        2987001        0          86401            29.0          4   2755   \n",
       "2        2987002        0          86469            59.0          4   4663   \n",
       "\n",
       "   card2  card3  card4  card5  ...  id_31  id_32  id_33  id_34  id_35  id_36  \\\n",
       "0 -999.0  150.0      1  142.0  ...    136 -999.0    461      4      2      2   \n",
       "1  404.0  150.0      2  102.0  ...    136 -999.0    461      4      2      2   \n",
       "2  490.0  150.0      4  166.0  ...    136 -999.0    461      4      2      2   \n",
       "\n",
       "   id_37  id_38  DeviceType  DeviceInfo  \n",
       "0      2      2           2        2740  \n",
       "1      2      2           2        2740  \n",
       "2      2      2           2        2740  \n",
       "\n",
       "[3 rows x 352 columns]"
      ]
     },
     "execution_count": 50,
     "metadata": {},
     "output_type": "execute_result"
    }
   ],
   "source": [
    "train.drop('Unnamed: 0',axis=1,inplace=True)\n",
    "train.head(3)"
   ]
  },
  {
   "cell_type": "code",
   "execution_count": 244,
   "metadata": {
    "scrolled": true
   },
   "outputs": [
    {
     "data": {
      "text/plain": [
       "(590540, 352)"
      ]
     },
     "execution_count": 244,
     "metadata": {},
     "output_type": "execute_result"
    }
   ],
   "source": [
    "train.shape"
   ]
  },
  {
   "cell_type": "code",
   "execution_count": 245,
   "metadata": {},
   "outputs": [],
   "source": [
    "df = train.head(100000)"
   ]
  },
  {
   "cell_type": "code",
   "execution_count": 246,
   "metadata": {
    "scrolled": true
   },
   "outputs": [
    {
     "data": {
      "text/plain": [
       "0    97439\n",
       "1     2561\n",
       "Name: isFraud, dtype: int64"
      ]
     },
     "execution_count": 246,
     "metadata": {},
     "output_type": "execute_result"
    }
   ],
   "source": [
    "df.isFraud.value_counts()"
   ]
  },
  {
   "cell_type": "code",
   "execution_count": 247,
   "metadata": {},
   "outputs": [
    {
     "data": {
      "text/plain": [
       "0    0.97439\n",
       "1    0.02561\n",
       "Name: isFraud, dtype: float64"
      ]
     },
     "execution_count": 247,
     "metadata": {},
     "output_type": "execute_result"
    }
   ],
   "source": [
    "df.isFraud.value_counts(normalize=True)"
   ]
  },
  {
   "cell_type": "code",
   "execution_count": 248,
   "metadata": {},
   "outputs": [],
   "source": [
    "features = ['TransactionDT', 'TransactionAmt', 'ProductCD', 'card1', 'card2', 'card3', 'card4', 'card5', 'card6',\n",
    "       'addr1', 'addr2', 'dist1', 'P_emaildomain', 'R_emaildomain', 'C1',\n",
    "       'C2', 'C4', 'C5', 'C6', 'C7', 'C8', 'C9', 'C10', 'C11', 'C12',\n",
    "       'C13', 'C14', 'D1', 'D2', 'D3', 'D4', 'D5', 'D6', 'D8', 'D9',\n",
    "       'D10', 'D11', 'D12', 'D13', 'D14', 'D15', 'M1', 'M2', 'M3', 'M4',\n",
    "       'M5', 'M6', 'M7', 'M8', 'M9', 'V1', 'V2', 'V3', 'V4', 'V5', 'V6',\n",
    "       'V7', 'V8', 'V9', 'V10', 'V11', 'V12', 'V13', 'V15', 'V16', 'V17',\n",
    "       'V18', 'V19', 'V20', 'V21', 'V22', 'V29', 'V30', 'V31', 'V32',\n",
    "       'V33', 'V34', 'V35', 'V36', 'V37', 'V38', 'V39', 'V40', 'V41',\n",
    "       'V42', 'V43', 'V44', 'V45', 'V46', 'V47', 'V48', 'V49', 'V50',\n",
    "       'V51', 'V52', 'V53', 'V54', 'V56', 'V57', 'V58', 'V59', 'V60',\n",
    "       'V61', 'V62', 'V63', 'V64', 'V69', 'V70', 'V71', 'V72', 'V73',\n",
    "       'V74', 'V75', 'V76', 'V78', 'V79', 'V80', 'V81', 'V82', 'V83',\n",
    "       'V84', 'V85', 'V87', 'V90', 'V91', 'V92', 'V93', 'V94', 'V95',\n",
    "       'V96', 'V97', 'V99', 'V100', 'V126', 'V127', 'V128', 'V130',\n",
    "       'V131', 'V138', 'V139', 'V140', 'V141', 'V142', 'V143', 'V144',\n",
    "       'V145', 'V146', 'V147', 'V148', 'V149', 'V150', 'V151', 'V152',\n",
    "       'V153', 'V154', 'V155', 'V156', 'V157', 'V158', 'V159', 'V160',\n",
    "       'V161', 'V162', 'V163', 'V164', 'V165', 'V166', 'V167', 'V168',\n",
    "       'V169', 'V170', 'V171', 'V172', 'V173', 'V174', 'V175', 'V176',\n",
    "       'V177', 'V178', 'V179', 'V180', 'V181', 'V182', 'V183', 'V184',\n",
    "       'V185', 'V186', 'V187', 'V188', 'V189', 'V190', 'V191', 'V192',\n",
    "       'V193', 'V194', 'V195', 'V196', 'V197', 'V198', 'V199', 'V200',\n",
    "       'V201', 'V202', 'V203', 'V204', 'V205', 'V206', 'V207', 'V208',\n",
    "       'V209', 'V210', 'V211', 'V212', 'V213', 'V214', 'V215', 'V216',\n",
    "       'V217', 'V218', 'V219', 'V220', 'V221', 'V222', 'V223', 'V224',\n",
    "       'V225', 'V226', 'V227', 'V228', 'V229', 'V230', 'V231', 'V232',\n",
    "       'V233', 'V234', 'V235', 'V236', 'V237', 'V238', 'V239', 'V240',\n",
    "       'V241', 'V242', 'V243', 'V244', 'V245', 'V246', 'V247', 'V248',\n",
    "       'V249', 'V250', 'V251', 'V252', 'V253', 'V254', 'V255', 'V256',\n",
    "       'V257', 'V258', 'V259', 'V260', 'V261', 'V262', 'V263', 'V264',\n",
    "       'V265', 'V266', 'V267', 'V268', 'V269', 'V270', 'V271', 'V272',\n",
    "       'V273', 'V274', 'V275', 'V276', 'V277', 'V278', 'V279', 'V280',\n",
    "       'V282', 'V283', 'V285', 'V287', 'V288', 'V289', 'V291', 'V292',\n",
    "       'V294', 'V302', 'V303', 'V304', 'V306', 'V307', 'V308', 'V310',\n",
    "       'V312', 'V313', 'V314', 'V315', 'V317', 'V322', 'V323', 'V324',\n",
    "       'V325', 'V326', 'V327', 'V328', 'V329', 'V330', 'V331', 'V332',\n",
    "       'V333', 'V334', 'V335', 'V336', 'V337', 'V338', 'V339', 'id_01',\n",
    "       'id_02', 'id_03', 'id_04', 'id_05', 'id_06', 'id_09', 'id_10',\n",
    "       'id_11', 'id_12', 'id_13', 'id_14', 'id_15', 'id_16', 'id_17',\n",
    "       'id_19', 'id_20', 'id_28', 'id_29', 'id_30', 'id_31', 'id_32',\n",
    "       'id_33', 'id_34', 'id_35', 'id_36', 'id_37', 'id_38', 'DeviceType',\n",
    "       'DeviceInfo']"
   ]
  },
  {
   "cell_type": "code",
   "execution_count": 249,
   "metadata": {},
   "outputs": [],
   "source": [
    "X = df[features]\n",
    "y = df.isFraud\n",
    "\n",
    "# split training and test data\n",
    "X_train, X_test, y_train, y_test = train_test_split(X, y, test_size=0.3, random_state=42)"
   ]
  },
  {
   "cell_type": "code",
   "execution_count": 250,
   "metadata": {},
   "outputs": [],
   "source": [
    "parameters = {'min_child_weight': [0, 1], 'scale_pos_weight':[0.95, 0.9]}"
   ]
  },
  {
   "cell_type": "code",
   "execution_count": 251,
   "metadata": {},
   "outputs": [],
   "source": [
    "# instantiate a classifier\n",
    "xg_clf = XGBClassifier(objective = 'binary:logistic', random_state = 42, silent = 1, n_estimators=10, max_depth= 8)"
   ]
  },
  {
   "cell_type": "code",
   "execution_count": 255,
   "metadata": {},
   "outputs": [
    {
     "data": {
      "text/plain": [
       "GridSearchCV(cv=3, error_score='raise-deprecating',\n",
       "             estimator=XGBClassifier(base_score=0.5, booster='gbtree',\n",
       "                                     colsample_bylevel=1, colsample_bynode=1,\n",
       "                                     colsample_bytree=1, gamma=0,\n",
       "                                     learning_rate=0.1, max_delta_step=0,\n",
       "                                     max_depth=8, min_child_weight=1,\n",
       "                                     missing=None, n_estimators=10, n_jobs=1,\n",
       "                                     nthread=None, objective='binary:logistic',\n",
       "                                     random_state=42, reg_alpha=0, reg_lambda=1,\n",
       "                                     scale_pos_weight=1, seed=None, silent=1,\n",
       "                                     subsample=1, verbosity=1),\n",
       "             iid='warn', n_jobs=None,\n",
       "             param_grid={'min_child_weight': [0, 1],\n",
       "                         'scale_pos_weight': [0.95, 0.9]},\n",
       "             pre_dispatch='2*n_jobs', refit=True, return_train_score=False,\n",
       "             scoring='accuracy', verbose=0)"
      ]
     },
     "execution_count": 255,
     "metadata": {},
     "output_type": "execute_result"
    }
   ],
   "source": [
    "# RandomSearch\n",
    "grid_search = GridSearchCV(param_grid= parameters, estimator = xg_clf, cv=3, scoring='accuracy')\n",
    "grid_search.fit(X_train,y_train)"
   ]
  },
  {
   "cell_type": "code",
   "execution_count": 256,
   "metadata": {},
   "outputs": [
    {
     "name": "stdout",
     "output_type": "stream",
     "text": [
      "{'min_child_weight': 0, 'scale_pos_weight': 0.9}\n",
      "0.9808\n"
     ]
    }
   ],
   "source": [
    "# Print best parameters and results\n",
    "print(grid_search.best_params_)\n",
    "print(grid_search.best_score_)"
   ]
  },
  {
   "cell_type": "code",
   "execution_count": 257,
   "metadata": {},
   "outputs": [],
   "source": [
    "# optimized parameters1\n",
    "optimized_parameters = {'objective':'binary:logistic',\n",
    "                        'min_child_weight': 1,\n",
    "                        'scale_pos_weight': 0.9,\n",
    "                        'n_estimators': 500,\n",
    "                        'num_leaves': 20,\n",
    "                        'min_child_samples': 79,\n",
    "                        'max_depth': 13,\n",
    "                        \"subsample_freq\": 3,\n",
    "                        \"subsample\": 0.9,\n",
    "                        \"bagging_seed\": 11,\n",
    "                        'learning_rate':0.03     \n",
    "                       }"
   ]
  },
  {
   "cell_type": "code",
   "execution_count": 258,
   "metadata": {},
   "outputs": [
    {
     "data": {
      "text/plain": [
       "XGBClassifier(bagging_seed=11, base_score=0.5, booster='gbtree',\n",
       "              colsample_bylevel=1, colsample_bynode=1, colsample_bytree=1,\n",
       "              gamma=0, learning_rate=0.03, max_delta_step=0, max_depth=13,\n",
       "              min_child_samples=79, min_child_weight=1, missing=None,\n",
       "              n_estimators=500, n_jobs=1, nthread=None, num_leaves=20,\n",
       "              objective='binary:logistic', random_state=0, reg_alpha=0,\n",
       "              reg_lambda=1, scale_pos_weight=0.9, seed=None, silent=None,\n",
       "              subsample=0.9, subsample_freq=3, verbosity=1)"
      ]
     },
     "execution_count": 258,
     "metadata": {},
     "output_type": "execute_result"
    }
   ],
   "source": [
    "# instantiate a classifier\n",
    "xg_clf_opt = XGBClassifier(**optimized_parameters)\n",
    "xg_clf_opt.fit(X_train, y_train)"
   ]
  },
  {
   "cell_type": "code",
   "execution_count": 259,
   "metadata": {},
   "outputs": [
    {
     "name": "stdout",
     "output_type": "stream",
     "text": [
      "The accuracy of the optimized classifier is 0.99889\n"
     ]
    }
   ],
   "source": [
    "# predict the labels\n",
    "y_opt_pred = xg_clf_opt.predict(X_train)\n",
    "\n",
    "# score model\n",
    "score = accuracy_score(y_train, y_opt_pred)\n",
    "print(\"The accuracy of the optimized classifier is {}\".format(round(score, 5)))"
   ]
  },
  {
   "cell_type": "code",
   "execution_count": 260,
   "metadata": {},
   "outputs": [
    {
     "data": {
      "text/plain": [
       "{'0': {'precision': 0.9988570926194558,\n",
       "  'recall': 1.0,\n",
       "  'f1-score': 0.9994282195636875,\n",
       "  'support': 68169},\n",
       " '1': {'precision': 1.0,\n",
       "  'recall': 0.957400327689787,\n",
       "  'f1-score': 0.9782366071428571,\n",
       "  'support': 1831},\n",
       " 'accuracy': 0.9988857142857143,\n",
       " 'macro avg': {'precision': 0.9994285463097279,\n",
       "  'recall': 0.9787001638448936,\n",
       "  'f1-score': 0.9888324133532723,\n",
       "  'support': 70000},\n",
       " 'weighted avg': {'precision': 0.9988869878110811,\n",
       "  'recall': 0.9988857142857143,\n",
       "  'f1-score': 0.9988739075302225,\n",
       "  'support': 70000}}"
      ]
     },
     "execution_count": 260,
     "metadata": {},
     "output_type": "execute_result"
    }
   ],
   "source": [
    "# use classification_report to evaluate the performance\n",
    "report = classification_report(y_train, y_opt_pred, output_dict=True)\n",
    "report"
   ]
  },
  {
   "cell_type": "code",
   "execution_count": 261,
   "metadata": {},
   "outputs": [
    {
     "data": {
      "text/html": [
       "<div>\n",
       "<style scoped>\n",
       "    .dataframe tbody tr th:only-of-type {\n",
       "        vertical-align: middle;\n",
       "    }\n",
       "\n",
       "    .dataframe tbody tr th {\n",
       "        vertical-align: top;\n",
       "    }\n",
       "\n",
       "    .dataframe thead th {\n",
       "        text-align: right;\n",
       "    }\n",
       "</style>\n",
       "<table border=\"1\" class=\"dataframe\">\n",
       "  <thead>\n",
       "    <tr style=\"text-align: right;\">\n",
       "      <th></th>\n",
       "      <th>precision</th>\n",
       "      <th>recall</th>\n",
       "      <th>f1-score</th>\n",
       "      <th>support</th>\n",
       "    </tr>\n",
       "  </thead>\n",
       "  <tbody>\n",
       "    <tr>\n",
       "      <td>0</td>\n",
       "      <td>0.998857</td>\n",
       "      <td>1.000000</td>\n",
       "      <td>0.999428</td>\n",
       "      <td>68169.000000</td>\n",
       "    </tr>\n",
       "    <tr>\n",
       "      <td>1</td>\n",
       "      <td>1.000000</td>\n",
       "      <td>0.957400</td>\n",
       "      <td>0.978237</td>\n",
       "      <td>1831.000000</td>\n",
       "    </tr>\n",
       "    <tr>\n",
       "      <td>accuracy</td>\n",
       "      <td>0.998886</td>\n",
       "      <td>0.998886</td>\n",
       "      <td>0.998886</td>\n",
       "      <td>0.998886</td>\n",
       "    </tr>\n",
       "    <tr>\n",
       "      <td>macro avg</td>\n",
       "      <td>0.999429</td>\n",
       "      <td>0.978700</td>\n",
       "      <td>0.988832</td>\n",
       "      <td>70000.000000</td>\n",
       "    </tr>\n",
       "    <tr>\n",
       "      <td>weighted avg</td>\n",
       "      <td>0.998887</td>\n",
       "      <td>0.998886</td>\n",
       "      <td>0.998874</td>\n",
       "      <td>70000.000000</td>\n",
       "    </tr>\n",
       "  </tbody>\n",
       "</table>\n",
       "</div>"
      ],
      "text/plain": [
       "              precision    recall  f1-score       support\n",
       "0              0.998857  1.000000  0.999428  68169.000000\n",
       "1              1.000000  0.957400  0.978237   1831.000000\n",
       "accuracy       0.998886  0.998886  0.998886      0.998886\n",
       "macro avg      0.999429  0.978700  0.988832  70000.000000\n",
       "weighted avg   0.998887  0.998886  0.998874  70000.000000"
      ]
     },
     "execution_count": 261,
     "metadata": {},
     "output_type": "execute_result"
    }
   ],
   "source": [
    "df_report = pd.DataFrame(report).transpose()\n",
    "df_report"
   ]
  },
  {
   "cell_type": "code",
   "execution_count": 262,
   "metadata": {},
   "outputs": [
    {
     "name": "stdout",
     "output_type": "stream",
     "text": [
      "The accuracy of the optimized classifier for test data is.0.98833\n"
     ]
    }
   ],
   "source": [
    "# predict the labels of test data by using the optimized classifier\n",
    "y_opt_test = xg_clf_opt.predict(X_test)\n",
    "\n",
    "# score model\n",
    "test_score = accuracy_score(y_test, y_opt_test)\n",
    "print('The accuracy of the optimized classifier for test data is.{}'.format(round(test_score, 5)))"
   ]
  },
  {
   "cell_type": "code",
   "execution_count": 263,
   "metadata": {
    "scrolled": true
   },
   "outputs": [
    {
     "data": {
      "text/plain": [
       "{'0': {'precision': 0.9884805080737789,\n",
       "  'recall': 0.9996925179364538,\n",
       "  'f1-score': 0.994054898763419,\n",
       "  'support': 29270},\n",
       " '1': {'precision': 0.9773869346733668,\n",
       "  'recall': 0.5328767123287671,\n",
       "  'f1-score': 0.6897163120567377,\n",
       "  'support': 730},\n",
       " 'accuracy': 0.9883333333333333,\n",
       " 'macro avg': {'precision': 0.9829337213735728,\n",
       "  'recall': 0.7662846151326104,\n",
       "  'f1-score': 0.8418856054100783,\n",
       "  'support': 30000},\n",
       " 'weighted avg': {'precision': 0.9882105644543688,\n",
       "  'recall': 0.9883333333333333,\n",
       "  'f1-score': 0.9866493264868897,\n",
       "  'support': 30000}}"
      ]
     },
     "execution_count": 263,
     "metadata": {},
     "output_type": "execute_result"
    }
   ],
   "source": [
    "# use classification_report to evaluate the performance\n",
    "report_test = classification_report(y_test, y_opt_test, output_dict=True)\n",
    "report_test"
   ]
  },
  {
   "cell_type": "code",
   "execution_count": 264,
   "metadata": {},
   "outputs": [
    {
     "data": {
      "text/html": [
       "<div>\n",
       "<style scoped>\n",
       "    .dataframe tbody tr th:only-of-type {\n",
       "        vertical-align: middle;\n",
       "    }\n",
       "\n",
       "    .dataframe tbody tr th {\n",
       "        vertical-align: top;\n",
       "    }\n",
       "\n",
       "    .dataframe thead th {\n",
       "        text-align: right;\n",
       "    }\n",
       "</style>\n",
       "<table border=\"1\" class=\"dataframe\">\n",
       "  <thead>\n",
       "    <tr style=\"text-align: right;\">\n",
       "      <th></th>\n",
       "      <th>precision</th>\n",
       "      <th>recall</th>\n",
       "      <th>f1-score</th>\n",
       "      <th>support</th>\n",
       "    </tr>\n",
       "  </thead>\n",
       "  <tbody>\n",
       "    <tr>\n",
       "      <td>0</td>\n",
       "      <td>0.988481</td>\n",
       "      <td>0.999693</td>\n",
       "      <td>0.994055</td>\n",
       "      <td>29270.000000</td>\n",
       "    </tr>\n",
       "    <tr>\n",
       "      <td>1</td>\n",
       "      <td>0.977387</td>\n",
       "      <td>0.532877</td>\n",
       "      <td>0.689716</td>\n",
       "      <td>730.000000</td>\n",
       "    </tr>\n",
       "    <tr>\n",
       "      <td>accuracy</td>\n",
       "      <td>0.988333</td>\n",
       "      <td>0.988333</td>\n",
       "      <td>0.988333</td>\n",
       "      <td>0.988333</td>\n",
       "    </tr>\n",
       "    <tr>\n",
       "      <td>macro avg</td>\n",
       "      <td>0.982934</td>\n",
       "      <td>0.766285</td>\n",
       "      <td>0.841886</td>\n",
       "      <td>30000.000000</td>\n",
       "    </tr>\n",
       "    <tr>\n",
       "      <td>weighted avg</td>\n",
       "      <td>0.988211</td>\n",
       "      <td>0.988333</td>\n",
       "      <td>0.986649</td>\n",
       "      <td>30000.000000</td>\n",
       "    </tr>\n",
       "  </tbody>\n",
       "</table>\n",
       "</div>"
      ],
      "text/plain": [
       "              precision    recall  f1-score       support\n",
       "0              0.988481  0.999693  0.994055  29270.000000\n",
       "1              0.977387  0.532877  0.689716    730.000000\n",
       "accuracy       0.988333  0.988333  0.988333      0.988333\n",
       "macro avg      0.982934  0.766285  0.841886  30000.000000\n",
       "weighted avg   0.988211  0.988333  0.986649  30000.000000"
      ]
     },
     "execution_count": 264,
     "metadata": {},
     "output_type": "execute_result"
    }
   ],
   "source": [
    "df_report_test = pd.DataFrame(report_test).transpose()\n",
    "df_report_test"
   ]
  },
  {
   "cell_type": "code",
   "execution_count": null,
   "metadata": {},
   "outputs": [],
   "source": []
  }
 ],
 "metadata": {
  "kernelspec": {
   "display_name": "Python 3",
   "language": "python",
   "name": "python3"
  },
  "language_info": {
   "codemirror_mode": {
    "name": "ipython",
    "version": 3
   },
   "file_extension": ".py",
   "mimetype": "text/x-python",
   "name": "python",
   "nbconvert_exporter": "python",
   "pygments_lexer": "ipython3",
   "version": "3.7.4"
  }
 },
 "nbformat": 4,
 "nbformat_minor": 2
}
